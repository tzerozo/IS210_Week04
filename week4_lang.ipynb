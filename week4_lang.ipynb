{
 "cells": [
  {
   "cell_type": "code",
   "execution_count": 1,
   "metadata": {},
   "outputs": [
    {
     "ename": "SyntaxError",
     "evalue": "invalid syntax (<ipython-input-1-4f7ce12173fe>, line 1)",
     "output_type": "error",
     "traceback": [
      "\u001b[1;36m  File \u001b[1;32m\"<ipython-input-1-4f7ce12173fe>\"\u001b[1;36m, line \u001b[1;32m1\u001b[0m\n\u001b[1;33m    def too_many_kittens(kittens, litterboxes, catfood)\u001b[0m\n\u001b[1;37m                                                       ^\u001b[0m\n\u001b[1;31mSyntaxError\u001b[0m\u001b[1;31m:\u001b[0m invalid syntax\n"
     ]
    }
   ],
   "source": [
    "def too_many_kittens(kittens, litterboxes, catfood)\n",
    "return not (litterboxes >= kittens and catfood)"
   ]
  },
  {
   "cell_type": "code",
   "execution_count": 2,
   "metadata": {},
   "outputs": [
    {
     "ename": "IndentationError",
     "evalue": "expected an indented block (<ipython-input-2-d3b3e5a34014>, line 2)",
     "output_type": "error",
     "traceback": [
      "\u001b[1;36m  File \u001b[1;32m\"<ipython-input-2-d3b3e5a34014>\"\u001b[1;36m, line \u001b[1;32m2\u001b[0m\n\u001b[1;33m    return not (litterboxes >= kittens and catfood)\u001b[0m\n\u001b[1;37m         ^\u001b[0m\n\u001b[1;31mIndentationError\u001b[0m\u001b[1;31m:\u001b[0m expected an indented block\n"
     ]
    }
   ],
   "source": [
    "def too_many_kittens(kittens, litterboxes, catfood):\n",
    "return not (litterboxes >= kittens and catfood)"
   ]
  },
  {
   "cell_type": "code",
   "execution_count": 3,
   "metadata": {},
   "outputs": [
    {
     "ename": "SyntaxError",
     "evalue": "invalid syntax (<ipython-input-3-92c32b3fbb58>, line 1)",
     "output_type": "error",
     "traceback": [
      "\u001b[1;36m  File \u001b[1;32m\"<ipython-input-3-92c32b3fbb58>\"\u001b[1;36m, line \u001b[1;32m1\u001b[0m\n\u001b[1;33m    def too_many_kittens(kittens, litterboxes, catfood)\u001b[0m\n\u001b[1;37m                                                       ^\u001b[0m\n\u001b[1;31mSyntaxError\u001b[0m\u001b[1;31m:\u001b[0m invalid syntax\n"
     ]
    }
   ],
   "source": [
    "def too_many_kittens(kittens, litterboxes, catfood)\n",
    "    return not (litterboxes >= kittens and catfood)"
   ]
  },
  {
   "cell_type": "code",
   "execution_count": 4,
   "metadata": {},
   "outputs": [],
   "source": [
    "def too_many_kittens(kittens, litterboxes, catfood):\n",
    "    return not (litterboxes >= kittens and catfood)"
   ]
  },
  {
   "cell_type": "code",
   "execution_count": 5,
   "metadata": {},
   "outputs": [
    {
     "ename": "SyntaxError",
     "evalue": "invalid syntax (<ipython-input-5-66f67479702a>, line 4)",
     "output_type": "error",
     "traceback": [
      "\u001b[1;36m  File \u001b[1;32m\"<ipython-input-5-66f67479702a>\"\u001b[1;36m, line \u001b[1;32m4\u001b[0m\n\u001b[1;33m    Args:\u001b[0m\n\u001b[1;37m        ^\u001b[0m\n\u001b[1;31mSyntaxError\u001b[0m\u001b[1;31m:\u001b[0m invalid syntax\n"
     ]
    }
   ],
   "source": [
    "def too_many_kittens(kittens, litterboxes, catfood):\n",
    "    return not (litterboxes >= kittens and catfood)\n",
    "\n",
    "Args:\n",
    "    kittens (int): numbers of kittens\n",
    "    litterboxes (int): number of litterboxes\n",
    "    catfood (bool): anyfood exists \n",
    "        \n",
    "Examples:\n",
    "    >>> too_many_kittens(12, 12, False)"
   ]
  },
  {
   "cell_type": "code",
   "execution_count": 6,
   "metadata": {},
   "outputs": [
    {
     "ename": "SyntaxError",
     "evalue": "invalid syntax (<ipython-input-6-b3e33d8b8d10>, line 4)",
     "output_type": "error",
     "traceback": [
      "\u001b[1;36m  File \u001b[1;32m\"<ipython-input-6-b3e33d8b8d10>\"\u001b[1;36m, line \u001b[1;32m4\u001b[0m\n\u001b[1;33m    Args:\u001b[0m\n\u001b[1;37m        ^\u001b[0m\n\u001b[1;31mSyntaxError\u001b[0m\u001b[1;31m:\u001b[0m invalid syntax\n"
     ]
    }
   ],
   "source": [
    "def too_many_kittens(kittens, litterboxes, catfood):\n",
    "    return not (litterboxes >= kittens and catfood)\n",
    "\n",
    "    Args:\n",
    "        kittens (int): numbers of kittens\n",
    "        litterboxes (int): number of litterboxes\n",
    "        catfood (bool): anyfood exists \n",
    "        \n",
    "    Examples:\n",
    "        >>> too_many_kittens(12, 12, False)\n",
    "        True\n",
    "        >>> too_many_kittens(13, 12, True)\n",
    "        True\n",
    "        >>> too_many_kittens(12, 13, True)\n",
    "        False"
   ]
  },
  {
   "cell_type": "code",
   "execution_count": 7,
   "metadata": {},
   "outputs": [
    {
     "data": {
      "text/plain": [
       "'\\n    Args:\\n        kittens (int): numbers of kittens\\n        litterboxes (int): number of litterboxes\\n        catfood (bool): anyfood exists \\n        \\n    Examples:\\n        >>> too_many_kittens(12, 12, False)\\n        True\\n        >>> too_many_kittens(13, 12, True)\\n        True\\n        >>> too_many_kittens(12, 13, True)\\n        False\\n'"
      ]
     },
     "execution_count": 7,
     "metadata": {},
     "output_type": "execute_result"
    }
   ],
   "source": [
    "def too_many_kittens(kittens, litterboxes, catfood):\n",
    "    return not (litterboxes >= kittens and catfood)\n",
    "\"\"\"\n",
    "    Args:\n",
    "        kittens (int): numbers of kittens\n",
    "        litterboxes (int): number of litterboxes\n",
    "        catfood (bool): anyfood exists \n",
    "        \n",
    "    Examples:\n",
    "        >>> too_many_kittens(12, 12, False)\n",
    "        True\n",
    "        >>> too_many_kittens(13, 12, True)\n",
    "        True\n",
    "        >>> too_many_kittens(12, 13, True)\n",
    "        False\n",
    "\"\"\""
   ]
  },
  {
   "cell_type": "code",
   "execution_count": 8,
   "metadata": {},
   "outputs": [],
   "source": [
    "def too_many_kittens(kittens, litterboxes, catfood):\n",
    "    return not (litterboxes >= kittens and catfood)"
   ]
  },
  {
   "cell_type": "code",
   "execution_count": 9,
   "metadata": {},
   "outputs": [
    {
     "data": {
      "text/plain": [
       "True"
      ]
     },
     "execution_count": 9,
     "metadata": {},
     "output_type": "execute_result"
    }
   ],
   "source": [
    "too_many_kittens(12, 12, False)"
   ]
  },
  {
   "cell_type": "code",
   "execution_count": 10,
   "metadata": {},
   "outputs": [
    {
     "data": {
      "text/plain": [
       "True"
      ]
     },
     "execution_count": 10,
     "metadata": {},
     "output_type": "execute_result"
    }
   ],
   "source": [
    "too_many_kittens(13, 12, True)"
   ]
  },
  {
   "cell_type": "code",
   "execution_count": 11,
   "metadata": {},
   "outputs": [
    {
     "data": {
      "text/plain": [
       "False"
      ]
     },
     "execution_count": 11,
     "metadata": {},
     "output_type": "execute_result"
    }
   ],
   "source": [
    "too_many_kittens(12, 13, True)"
   ]
  },
  {
   "cell_type": "code",
   "execution_count": 12,
   "metadata": {},
   "outputs": [
    {
     "ename": "SyntaxError",
     "evalue": "invalid syntax (<ipython-input-12-ec0140c2196b>, line 1)",
     "output_type": "error",
     "traceback": [
      "\u001b[1;36m  File \u001b[1;32m\"<ipython-input-12-ec0140c2196b>\"\u001b[1;36m, line \u001b[1;32m1\u001b[0m\n\u001b[1;33m    def defaults(my_required, my_optional=True)\u001b[0m\n\u001b[1;37m                                               ^\u001b[0m\n\u001b[1;31mSyntaxError\u001b[0m\u001b[1;31m:\u001b[0m invalid syntax\n"
     ]
    }
   ],
   "source": [
    "def defaults(my_required, my_optional=True)\n",
    "return my_optional is my_required"
   ]
  },
  {
   "cell_type": "code",
   "execution_count": 13,
   "metadata": {},
   "outputs": [
    {
     "ename": "IndentationError",
     "evalue": "expected an indented block (<ipython-input-13-561b3e3b7b02>, line 2)",
     "output_type": "error",
     "traceback": [
      "\u001b[1;36m  File \u001b[1;32m\"<ipython-input-13-561b3e3b7b02>\"\u001b[1;36m, line \u001b[1;32m2\u001b[0m\n\u001b[1;33m    return my_optional is my_required\u001b[0m\n\u001b[1;37m         ^\u001b[0m\n\u001b[1;31mIndentationError\u001b[0m\u001b[1;31m:\u001b[0m expected an indented block\n"
     ]
    }
   ],
   "source": [
    "def defaults(my_required, my_optional=True):\n",
    "return my_optional is my_required"
   ]
  },
  {
   "cell_type": "code",
   "execution_count": 14,
   "metadata": {},
   "outputs": [
    {
     "ename": "SyntaxError",
     "evalue": "invalid syntax (<ipython-input-14-a94a9bb93f4a>, line 1)",
     "output_type": "error",
     "traceback": [
      "\u001b[1;36m  File \u001b[1;32m\"<ipython-input-14-a94a9bb93f4a>\"\u001b[1;36m, line \u001b[1;32m1\u001b[0m\n\u001b[1;33m    def defaults(my_required, my_optional=True)\u001b[0m\n\u001b[1;37m                                               ^\u001b[0m\n\u001b[1;31mSyntaxError\u001b[0m\u001b[1;31m:\u001b[0m invalid syntax\n"
     ]
    }
   ],
   "source": [
    "def defaults(my_required, my_optional=True)\n",
    "    return my_optional is my_required"
   ]
  },
  {
   "cell_type": "code",
   "execution_count": 15,
   "metadata": {},
   "outputs": [],
   "source": [
    "def defaults(my_required, my_optional=True):\n",
    "    return my_optional is my_required"
   ]
  },
  {
   "cell_type": "code",
   "execution_count": 16,
   "metadata": {},
   "outputs": [
    {
     "data": {
      "text/plain": [
       "True"
      ]
     },
     "execution_count": 16,
     "metadata": {},
     "output_type": "execute_result"
    }
   ],
   "source": [
    "defaults(True)"
   ]
  },
  {
   "cell_type": "code",
   "execution_count": 17,
   "metadata": {},
   "outputs": [
    {
     "data": {
      "text/plain": [
       "False"
      ]
     },
     "execution_count": 17,
     "metadata": {},
     "output_type": "execute_result"
    }
   ],
   "source": [
    "defaults(True, False)"
   ]
  },
  {
   "cell_type": "code",
   "execution_count": 18,
   "metadata": {},
   "outputs": [
    {
     "data": {
      "text/plain": [
       "True"
      ]
     },
     "execution_count": 18,
     "metadata": {},
     "output_type": "execute_result"
    }
   ],
   "source": [
    "defaults(False, False)"
   ]
  },
  {
   "cell_type": "code",
   "execution_count": null,
   "metadata": {},
   "outputs": [],
   "source": []
  }
 ],
 "metadata": {
  "kernelspec": {
   "display_name": "Python 2",
   "language": "python",
   "name": "python2"
  },
  "language_info": {
   "codemirror_mode": {
    "name": "ipython",
    "version": 2
   },
   "file_extension": ".py",
   "mimetype": "text/x-python",
   "name": "python",
   "nbconvert_exporter": "python",
   "pygments_lexer": "ipython2",
   "version": "2.7.16"
  }
 },
 "nbformat": 4,
 "nbformat_minor": 2
}
